{
 "cells": [
  {
   "cell_type": "code",
   "execution_count": 1,
   "id": "08e3ae00-1798-4b4a-a0d1-63c33e666871",
   "metadata": {},
   "outputs": [],
   "source": [
    "import pandas as pd\n",
    "\n",
    "temp = pd.read_csv(\"data/T_ONTIME_REPORTING.csv\")"
   ]
  },
  {
   "cell_type": "code",
   "execution_count": null,
   "id": "10422960-a180-4046-9951-198039556d09",
   "metadata": {},
   "outputs": [],
   "source": [
    "import pandas as pd\n",
    "import seaborn as sns\n",
    "import matplotlib.pyplot as plt\n",
    "\n",
    "cat_columns = [\n",
    "    'OP_CARRIER_FL_NUM', \n",
    "    'ORIGIN_AIRPORT_ID', \n",
    "    'ORIGIN_AIRPORT_SEQ_ID', \n",
    "    'ORIGIN_CITY_MARKET_ID', \n",
    "    'ORIGIN',\n",
    "    'ORIGIN_CITY_NAME',\n",
    "    'DEST_AIRPORT_ID',\n",
    "    'DEST_AIRPORT_SEQ_ID',\n",
    "    'DEST_CITY_MARKET_ID',\n",
    "    'DEST',\n",
    "    'DEST_CITY_NAME',\n",
    "    'DEP_TIME',\n",
    "    'DEP_DELAY',\n",
    "    'TAXI_OUT',\n",
    "    'ARR_TIME',\n",
    "    'ARR_DELAY',\n",
    "    'CANCELLED',\n",
    "    'CANCELLATION_CODE',\n",
    "    'DIVERTED'\n",
    "]\n",
    "num_columns = []\n",
    "\n",
    "# Create dummy variables for categorical columns\n",
    "dummy_df = pd.get_dummies(temp[cat_columns])\n",
    "# Combine dummy variables with numerical columns\n",
    "new_df = pd.concat([temp[num_columns], dummy_df], axis=1)\n",
    "# Assuming the DataFrame is called 'df'\n",
    "corr_matrix = new_df.corr()\n",
    "\n",
    "# Create a heatmap using Seaborn\n",
    "sns.set(style=\"white\")\n",
    "plt.figure(figsize=(16,10))\n",
    "sns.heatmap(corr_matrix, annot=True, cmap=\"coolwarm\", vmin=-1, vmax=1)\n",
    "plt.title('Correlation Matrix')\n",
    "plt.show()"
   ]
  },
  {
   "cell_type": "code",
   "execution_count": null,
   "id": "d54154b6-14ba-4112-9a53-3f0758faa862",
   "metadata": {},
   "outputs": [],
   "source": []
  }
 ],
 "metadata": {
  "kernelspec": {
   "display_name": "Python 3 (ipykernel)",
   "language": "python",
   "name": "python3"
  },
  "language_info": {
   "codemirror_mode": {
    "name": "ipython",
    "version": 3
   },
   "file_extension": ".py",
   "mimetype": "text/x-python",
   "name": "python",
   "nbconvert_exporter": "python",
   "pygments_lexer": "ipython3",
   "version": "3.10.6"
  }
 },
 "nbformat": 4,
 "nbformat_minor": 5
}
