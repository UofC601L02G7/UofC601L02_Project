{
 "cells": [
  {
   "cell_type": "code",
   "execution_count": 2,
   "id": "9361fb7d-ae5d-46bc-ab5b-c2699d671b75",
   "metadata": {},
   "outputs": [
    {
     "name": "stderr",
     "output_type": "stream",
     "text": [
      "248it [00:53,  4.39it/s]C:\\Users\\wongh\\anaconda3\\envs\\601\\lib\\site-packages\\tqdm\\std.py:1181: DtypeWarning: Columns (3,4,7,8,11,12,13,14,15,16,17,19,20,21,22,23) have mixed types. Specify dtype option on import or set low_memory=False.\n",
      "  for obj in iterable:\n",
      "545it [02:00,  4.50it/s]C:\\Users\\wongh\\anaconda3\\envs\\601\\lib\\site-packages\\tqdm\\std.py:1181: DtypeWarning: Columns (3,4,7,8,11,12,13,14,15,16,17,19,20,21,22,23) have mixed types. Specify dtype option on import or set low_memory=False.\n",
      "  for obj in iterable:\n",
      "611it [02:15,  4.35it/s]C:\\Users\\wongh\\anaconda3\\envs\\601\\lib\\site-packages\\tqdm\\std.py:1181: DtypeWarning: Columns (3,4,7,8,11,12,13,14,15,16,17,19,20,21,22,23) have mixed types. Specify dtype option on import or set low_memory=False.\n",
      "  for obj in iterable:\n",
      "624it [02:18,  4.52it/s]\n"
     ]
    },
    {
     "data": {
      "text/html": [
       "<div>\n",
       "<style scoped>\n",
       "    .dataframe tbody tr th:only-of-type {\n",
       "        vertical-align: middle;\n",
       "    }\n",
       "\n",
       "    .dataframe tbody tr th {\n",
       "        vertical-align: top;\n",
       "    }\n",
       "\n",
       "    .dataframe thead th {\n",
       "        text-align: right;\n",
       "    }\n",
       "</style>\n",
       "<table border=\"1\" class=\"dataframe\">\n",
       "  <thead>\n",
       "    <tr style=\"text-align: right;\">\n",
       "      <th></th>\n",
       "      <th>FL_DATE</th>\n",
       "      <th>OP_UNIQUE_CARRIER</th>\n",
       "      <th>TAIL_NUM</th>\n",
       "      <th>ORIGIN_AIRPORT_SEQ_ID</th>\n",
       "      <th>ORIGIN_CITY_MARKET_ID</th>\n",
       "      <th>ORIGIN</th>\n",
       "      <th>ORIGIN_CITY_NAME</th>\n",
       "      <th>DEST_AIRPORT_SEQ_ID</th>\n",
       "      <th>DEST_CITY_MARKET_ID</th>\n",
       "      <th>DEST</th>\n",
       "      <th>...</th>\n",
       "      <th>TAXI_IN</th>\n",
       "      <th>ARR_TIME</th>\n",
       "      <th>ARR_DELAY</th>\n",
       "      <th>CANCELLED</th>\n",
       "      <th>CANCELLATION_CODE</th>\n",
       "      <th>CARRIER_DELAY</th>\n",
       "      <th>WEATHER_DELAY</th>\n",
       "      <th>NAS_DELAY</th>\n",
       "      <th>SECURITY_DELAY</th>\n",
       "      <th>LATE_AIRCRAFT_DELAY</th>\n",
       "    </tr>\n",
       "  </thead>\n",
       "  <tbody>\n",
       "    <tr>\n",
       "      <th>3</th>\n",
       "      <td>2014-07-01</td>\n",
       "      <td>AA</td>\n",
       "      <td>N002AA</td>\n",
       "      <td>1105703</td>\n",
       "      <td>31057</td>\n",
       "      <td>CLT</td>\n",
       "      <td>Charlotte, NC</td>\n",
       "      <td>1129803</td>\n",
       "      <td>30194</td>\n",
       "      <td>DFW</td>\n",
       "      <td>...</td>\n",
       "      <td>28.0</td>\n",
       "      <td>1214.0</td>\n",
       "      <td>9.0</td>\n",
       "      <td>0.0</td>\n",
       "      <td>NaN</td>\n",
       "      <td>NaN</td>\n",
       "      <td>NaN</td>\n",
       "      <td>NaN</td>\n",
       "      <td>NaN</td>\n",
       "      <td>NaN</td>\n",
       "    </tr>\n",
       "    <tr>\n",
       "      <th>4</th>\n",
       "      <td>2014-07-01</td>\n",
       "      <td>AA</td>\n",
       "      <td>N002AA</td>\n",
       "      <td>1129803</td>\n",
       "      <td>30194</td>\n",
       "      <td>DFW</td>\n",
       "      <td>Dallas/Fort Worth, TX</td>\n",
       "      <td>1105703</td>\n",
       "      <td>31057</td>\n",
       "      <td>CLT</td>\n",
       "      <td>...</td>\n",
       "      <td>13.0</td>\n",
       "      <td>945.0</td>\n",
       "      <td>0.0</td>\n",
       "      <td>0.0</td>\n",
       "      <td>NaN</td>\n",
       "      <td>NaN</td>\n",
       "      <td>NaN</td>\n",
       "      <td>NaN</td>\n",
       "      <td>NaN</td>\n",
       "      <td>NaN</td>\n",
       "    </tr>\n",
       "    <tr>\n",
       "      <th>7</th>\n",
       "      <td>2014-07-01</td>\n",
       "      <td>AA</td>\n",
       "      <td>N004AA</td>\n",
       "      <td>1039705</td>\n",
       "      <td>30397</td>\n",
       "      <td>ATL</td>\n",
       "      <td>Atlanta, GA</td>\n",
       "      <td>1129803</td>\n",
       "      <td>30194</td>\n",
       "      <td>DFW</td>\n",
       "      <td>...</td>\n",
       "      <td>6.0</td>\n",
       "      <td>1341.0</td>\n",
       "      <td>-9.0</td>\n",
       "      <td>0.0</td>\n",
       "      <td>NaN</td>\n",
       "      <td>NaN</td>\n",
       "      <td>NaN</td>\n",
       "      <td>NaN</td>\n",
       "      <td>NaN</td>\n",
       "      <td>NaN</td>\n",
       "    </tr>\n",
       "    <tr>\n",
       "      <th>8</th>\n",
       "      <td>2014-07-01</td>\n",
       "      <td>AA</td>\n",
       "      <td>N004AA</td>\n",
       "      <td>1129803</td>\n",
       "      <td>30194</td>\n",
       "      <td>DFW</td>\n",
       "      <td>Dallas/Fort Worth, TX</td>\n",
       "      <td>1039705</td>\n",
       "      <td>30397</td>\n",
       "      <td>ATL</td>\n",
       "      <td>...</td>\n",
       "      <td>7.0</td>\n",
       "      <td>1159.0</td>\n",
       "      <td>4.0</td>\n",
       "      <td>0.0</td>\n",
       "      <td>NaN</td>\n",
       "      <td>NaN</td>\n",
       "      <td>NaN</td>\n",
       "      <td>NaN</td>\n",
       "      <td>NaN</td>\n",
       "      <td>NaN</td>\n",
       "    </tr>\n",
       "    <tr>\n",
       "      <th>9</th>\n",
       "      <td>2014-07-01</td>\n",
       "      <td>AA</td>\n",
       "      <td>N004AA</td>\n",
       "      <td>1129803</td>\n",
       "      <td>30194</td>\n",
       "      <td>DFW</td>\n",
       "      <td>Dallas/Fort Worth, TX</td>\n",
       "      <td>1039705</td>\n",
       "      <td>30397</td>\n",
       "      <td>ATL</td>\n",
       "      <td>...</td>\n",
       "      <td>6.0</td>\n",
       "      <td>2317.0</td>\n",
       "      <td>2.0</td>\n",
       "      <td>0.0</td>\n",
       "      <td>NaN</td>\n",
       "      <td>NaN</td>\n",
       "      <td>NaN</td>\n",
       "      <td>NaN</td>\n",
       "      <td>NaN</td>\n",
       "      <td>NaN</td>\n",
       "    </tr>\n",
       "  </tbody>\n",
       "</table>\n",
       "<p>5 rows × 24 columns</p>\n",
       "</div>"
      ],
      "text/plain": [
       "      FL_DATE OP_UNIQUE_CARRIER TAIL_NUM ORIGIN_AIRPORT_SEQ_ID  \\\n",
       "3  2014-07-01                AA   N002AA               1105703   \n",
       "4  2014-07-01                AA   N002AA               1129803   \n",
       "7  2014-07-01                AA   N004AA               1039705   \n",
       "8  2014-07-01                AA   N004AA               1129803   \n",
       "9  2014-07-01                AA   N004AA               1129803   \n",
       "\n",
       "  ORIGIN_CITY_MARKET_ID ORIGIN       ORIGIN_CITY_NAME DEST_AIRPORT_SEQ_ID  \\\n",
       "3                 31057    CLT          Charlotte, NC             1129803   \n",
       "4                 30194    DFW  Dallas/Fort Worth, TX             1105703   \n",
       "7                 30397    ATL            Atlanta, GA             1129803   \n",
       "8                 30194    DFW  Dallas/Fort Worth, TX             1039705   \n",
       "9                 30194    DFW  Dallas/Fort Worth, TX             1039705   \n",
       "\n",
       "  DEST_CITY_MARKET_ID DEST  ... TAXI_IN ARR_TIME ARR_DELAY CANCELLED  \\\n",
       "3               30194  DFW  ...    28.0   1214.0       9.0       0.0   \n",
       "4               31057  CLT  ...    13.0    945.0       0.0       0.0   \n",
       "7               30194  DFW  ...     6.0   1341.0      -9.0       0.0   \n",
       "8               30397  ATL  ...     7.0   1159.0       4.0       0.0   \n",
       "9               30397  ATL  ...     6.0   2317.0       2.0       0.0   \n",
       "\n",
       "  CANCELLATION_CODE CARRIER_DELAY WEATHER_DELAY NAS_DELAY SECURITY_DELAY  \\\n",
       "3               NaN           NaN           NaN       NaN            NaN   \n",
       "4               NaN           NaN           NaN       NaN            NaN   \n",
       "7               NaN           NaN           NaN       NaN            NaN   \n",
       "8               NaN           NaN           NaN       NaN            NaN   \n",
       "9               NaN           NaN           NaN       NaN            NaN   \n",
       "\n",
       "  LATE_AIRCRAFT_DELAY  \n",
       "3                 NaN  \n",
       "4                 NaN  \n",
       "7                 NaN  \n",
       "8                 NaN  \n",
       "9                 NaN  \n",
       "\n",
       "[5 rows x 24 columns]"
      ]
     },
     "execution_count": 2,
     "metadata": {},
     "output_type": "execute_result"
    }
   ],
   "source": [
    "import pandas as pd\n",
    "from tqdm import tqdm\n",
    "\n",
    "airport = pd.read_csv(\"../top_19_airport_review_link.csv\")\n",
    "\n",
    "df_list = list()\n",
    "chunk_iter = pd.read_csv(\"../data/Total_Data_10Y.csv\", chunksize=100000, dtype = {\"CANCELLATION_CODE\": str})\n",
    "for chunk in tqdm(chunk_iter):\n",
    "    chunk = chunk[(chunk.ORIGIN.isin(airport.ORIGIN)) & (chunk.DEST.isin(airport.ORIGIN))]\n",
    "    df_list.append(chunk)\n",
    "df = pd.concat(df_list)\n",
    "df.head()"
   ]
  },
  {
   "cell_type": "code",
   "execution_count": 3,
   "id": "7900e36f-b0af-4b02-8059-469358a4517a",
   "metadata": {},
   "outputs": [
    {
     "data": {
      "text/plain": [
       "12926556"
      ]
     },
     "execution_count": 3,
     "metadata": {},
     "output_type": "execute_result"
    }
   ],
   "source": [
    "len(df)"
   ]
  },
  {
   "cell_type": "code",
   "execution_count": 4,
   "id": "1374b914-8d3a-452d-91d9-6a885ec3afaf",
   "metadata": {},
   "outputs": [],
   "source": [
    "df.to_csv(\"test_reduce.csv\", index = False)"
   ]
  },
  {
   "cell_type": "code",
   "execution_count": 9,
   "id": "893347f3-2452-405e-9295-231d3050ae1f",
   "metadata": {},
   "outputs": [
    {
     "data": {
      "text/plain": [
       "Index(['FL_DATE', 'OP_UNIQUE_CARRIER', 'TAIL_NUM', 'ORIGIN_AIRPORT_SEQ_ID',\n",
       "       'ORIGIN_CITY_MARKET_ID', 'ORIGIN', 'ORIGIN_CITY_NAME',\n",
       "       'DEST_AIRPORT_SEQ_ID', 'DEST_CITY_MARKET_ID', 'DEST', 'DEST_CITY_NAME',\n",
       "       'DEP_TIME', 'DEP_DELAY', 'TAXI_OUT', 'TAXI_IN', 'ARR_TIME', 'ARR_DELAY',\n",
       "       'CANCELLED', 'CANCELLATION_CODE', 'CARRIER_DELAY', 'WEATHER_DELAY',\n",
       "       'NAS_DELAY', 'SECURITY_DELAY', 'LATE_AIRCRAFT_DELAY'],\n",
       "      dtype='object')"
      ]
     },
     "execution_count": 9,
     "metadata": {},
     "output_type": "execute_result"
    }
   ],
   "source": [
    "chunk.columns"
   ]
  },
  {
   "cell_type": "code",
   "execution_count": 5,
   "id": "a610bd8e-c5fa-4f47-8f77-7e07ae907155",
   "metadata": {},
   "outputs": [
    {
     "data": {
      "text/plain": [
       "10340975"
      ]
     },
     "execution_count": 5,
     "metadata": {},
     "output_type": "execute_result"
    }
   ],
   "source": [
    "len(df)"
   ]
  },
  {
   "cell_type": "code",
   "execution_count": 7,
   "id": "41bd267c-76b3-438d-8da4-dca9ddc6302a",
   "metadata": {},
   "outputs": [
    {
     "data": {
      "text/plain": [
       "0     ATL\n",
       "1     ORD\n",
       "2     DFW\n",
       "3     DEN\n",
       "4     LAX\n",
       "5     CLT\n",
       "6     PHX\n",
       "7     LAS\n",
       "8     SFO\n",
       "9     SEA\n",
       "10    MCO\n",
       "11    JFK\n",
       "12    EWR\n",
       "13    MIA\n",
       "14    DAL\n",
       "15    PDX\n",
       "16    STL\n",
       "17    RDU\n",
       "18    HOU\n",
       "Name: ORIGIN, dtype: object"
      ]
     },
     "execution_count": 7,
     "metadata": {},
     "output_type": "execute_result"
    }
   ],
   "source": [
    "airport.ORIGIN"
   ]
  },
  {
   "cell_type": "code",
   "execution_count": null,
   "id": "914cc369-1d5b-405e-aba0-61b747a6551f",
   "metadata": {},
   "outputs": [],
   "source": []
  }
 ],
 "metadata": {
  "kernelspec": {
   "display_name": "Python 3 (ipykernel)",
   "language": "python",
   "name": "python3"
  },
  "language_info": {
   "codemirror_mode": {
    "name": "ipython",
    "version": 3
   },
   "file_extension": ".py",
   "mimetype": "text/x-python",
   "name": "python",
   "nbconvert_exporter": "python",
   "pygments_lexer": "ipython3",
   "version": "3.10.14"
  }
 },
 "nbformat": 4,
 "nbformat_minor": 5
}
